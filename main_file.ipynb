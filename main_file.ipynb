{
 "cells": [
  {
   "cell_type": "code",
   "execution_count": 2,
   "id": "342a6d82-a463-4ee4-9734-aeefe469dc92",
   "metadata": {},
   "outputs": [],
   "source": [
    "import pandas as pd\n",
    "import database_operations\n",
    "import customer_table\n",
    "import transaction_table"
   ]
  },
  {
   "cell_type": "code",
   "execution_count": 3,
   "id": "b560b06f-aa5b-4626-80cc-5b478a2570af",
   "metadata": {},
   "outputs": [],
   "source": [
    "#reading the json files\n",
    "\n",
    "customers= pd.read_json('customers.json')\n",
    "transactionlogs=pd.read_json('transaction_logs.json')\n",
    "\n",
    "customers_dict=customers.to_dict()\n",
    "transactionlogs_dict=transactionlogs.to_dict()"
   ]
  },
  {
   "cell_type": "code",
   "execution_count": 5,
   "id": "8256c5ec-d2ba-4919-a43d-7eaf7bd92a85",
   "metadata": {},
   "outputs": [],
   "source": [
    "database_operations.create_db()\n",
    "customer_table.create_customerstable()\n",
    "customer_table.insert_customers(customers_dict)\n",
    "\n",
    "transaction_table.create_transaction_logs()\n",
    "transaction_table.insert_transactionlogs(transactionlogs_dict)"
   ]
  },
  {
   "cell_type": "code",
   "execution_count": 3,
   "id": "9108fc94-e826-44d3-961a-53f47009b1a9",
   "metadata": {},
   "outputs": [
    {
     "name": "stdout",
     "output_type": "stream",
     "text": [
      "<mysql.connector.connection_cext.CMySQLConnection object at 0x000001E370CDFEE0>\n"
     ]
    }
   ],
   "source": [
    "import mysql.connector\n",
    "va1=mysql.connector.connect(\n",
    "    host=\"localhost\",\n",
    "    user=\"root\",\n",
    "    password=\"9110786448\",\n",
    "    database=\"project_database\"\n",
    ")\n",
    "print(va1)"
   ]
  },
  {
   "cell_type": "code",
   "execution_count": 4,
   "id": "c8b4e0b0-97aa-4751-9490-b40e13c7a97f",
   "metadata": {},
   "outputs": [],
   "source": [
    "cursor=va1.cursor()"
   ]
  },
  {
   "cell_type": "code",
   "execution_count": 5,
   "id": "5a8f47bd-80aa-4bba-89f5-db05f5702262",
   "metadata": {},
   "outputs": [
    {
     "name": "stdout",
     "output_type": "stream",
     "text": [
      "(102, 'Kenneth Singh', 'Sweden', 'Davidhaven')\n",
      "(106, 'Mr. James Mendez', 'British Indian Ocean Territory (Chagos Archipelago)', 'Paulmouth')\n",
      "(109, 'Joseph Martin', 'Somalia', 'Port Vickiemouth')\n",
      "(135, 'Joann Romero', 'Timor-Leste', 'Port Raymondmouth')\n",
      "(144, 'Robert Reeves', 'Wallis and Futuna', 'Lake Jason')\n",
      "(145, 'Jasmine Dean', 'Tuvalu', 'Scotthaven')\n",
      "(147, 'Charles Becker', 'Isle of Man', 'East Cindyfurt')\n",
      "(158, 'Anthony Bowman', 'Latvia', 'Carriebury')\n",
      "(159, 'Desiree Edwards', 'Central African Republic', 'North Williammouth')\n",
      "(161, 'Kyle Lee', 'Greece', 'Jamesberg')\n"
     ]
    }
   ],
   "source": [
    "cursor.execute(\"SELECT * FROM Cust\")\n",
    "var3=cursor.fetchmany(size=10)\n",
    "for i in var3:\n",
    "    print(i)"
   ]
  },
  {
   "cell_type": "code",
   "execution_count": null,
   "id": "88f1b78b-93ec-4c67-a90c-8120dae87d4b",
   "metadata": {},
   "outputs": [],
   "source": []
  }
 ],
 "metadata": {
  "kernelspec": {
   "display_name": "Python 3 (ipykernel)",
   "language": "python",
   "name": "python3"
  },
  "language_info": {
   "codemirror_mode": {
    "name": "ipython",
    "version": 3
   },
   "file_extension": ".py",
   "mimetype": "text/x-python",
   "name": "python",
   "nbconvert_exporter": "python",
   "pygments_lexer": "ipython3",
   "version": "3.10.1"
  }
 },
 "nbformat": 4,
 "nbformat_minor": 5
}
